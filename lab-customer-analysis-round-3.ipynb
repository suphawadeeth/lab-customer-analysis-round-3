{
 "cells": [
  {
   "cell_type": "code",
   "execution_count": 2,
   "id": "98a6e726",
   "metadata": {},
   "outputs": [],
   "source": [
    "import pandas as pd\n",
    "import numpy as np\n",
    "from scipy import stats\n",
    "pd.set_option('display.max_columns', None)\n",
    "import warnings\n",
    "warnings.filterwarnings('ignore')\n",
    "import matplotlib.pyplot as plt\n",
    "import seaborn as sns \n",
    "%matplotlib inline"
   ]
  },
  {
   "cell_type": "code",
   "execution_count": 3,
   "id": "9fb5bd47",
   "metadata": {},
   "outputs": [],
   "source": [
    "df = pd.read_csv(\"/Users/kt/Desktop/Ironhack/unit-1/week-2/lab-customer-analysis-round-3/files_for_lab/csv_files/marketing_customer_analysis.csv\")"
   ]
  },
  {
   "cell_type": "code",
   "execution_count": 4,
   "id": "229daa96",
   "metadata": {},
   "outputs": [],
   "source": [
    "# Standardize the names of columns\n",
    "df.columns = [df.columns[i].lower().replace(' ', '_') for i in range(len(df.columns))]"
   ]
  },
  {
   "cell_type": "code",
   "execution_count": 5,
   "id": "b7f68eac",
   "metadata": {
    "scrolled": true
   },
   "outputs": [
    {
     "data": {
      "text/html": [
       "<div>\n",
       "<style scoped>\n",
       "    .dataframe tbody tr th:only-of-type {\n",
       "        vertical-align: middle;\n",
       "    }\n",
       "\n",
       "    .dataframe tbody tr th {\n",
       "        vertical-align: top;\n",
       "    }\n",
       "\n",
       "    .dataframe thead th {\n",
       "        text-align: right;\n",
       "    }\n",
       "</style>\n",
       "<table border=\"1\" class=\"dataframe\">\n",
       "  <thead>\n",
       "    <tr style=\"text-align: right;\">\n",
       "      <th></th>\n",
       "      <th>customer_lifetime_value</th>\n",
       "      <th>income</th>\n",
       "      <th>monthly_premium_auto</th>\n",
       "      <th>months_since_last_claim</th>\n",
       "      <th>months_since_policy_inception</th>\n",
       "      <th>number_of_open_complaints</th>\n",
       "      <th>number_of_policies</th>\n",
       "      <th>total_claim_amount</th>\n",
       "    </tr>\n",
       "  </thead>\n",
       "  <tbody>\n",
       "    <tr>\n",
       "      <th>count</th>\n",
       "      <td>9134.000000</td>\n",
       "      <td>9134.000000</td>\n",
       "      <td>9134.000000</td>\n",
       "      <td>9134.000000</td>\n",
       "      <td>9134.000000</td>\n",
       "      <td>9134.000000</td>\n",
       "      <td>9134.000000</td>\n",
       "      <td>9134.000000</td>\n",
       "    </tr>\n",
       "    <tr>\n",
       "      <th>mean</th>\n",
       "      <td>8004.940475</td>\n",
       "      <td>37657.380009</td>\n",
       "      <td>93.219291</td>\n",
       "      <td>15.097000</td>\n",
       "      <td>48.064594</td>\n",
       "      <td>0.384388</td>\n",
       "      <td>2.966170</td>\n",
       "      <td>434.088794</td>\n",
       "    </tr>\n",
       "    <tr>\n",
       "      <th>std</th>\n",
       "      <td>6870.967608</td>\n",
       "      <td>30379.904734</td>\n",
       "      <td>34.407967</td>\n",
       "      <td>10.073257</td>\n",
       "      <td>27.905991</td>\n",
       "      <td>0.910384</td>\n",
       "      <td>2.390182</td>\n",
       "      <td>290.500092</td>\n",
       "    </tr>\n",
       "    <tr>\n",
       "      <th>min</th>\n",
       "      <td>1898.007675</td>\n",
       "      <td>0.000000</td>\n",
       "      <td>61.000000</td>\n",
       "      <td>0.000000</td>\n",
       "      <td>0.000000</td>\n",
       "      <td>0.000000</td>\n",
       "      <td>1.000000</td>\n",
       "      <td>0.099007</td>\n",
       "    </tr>\n",
       "    <tr>\n",
       "      <th>25%</th>\n",
       "      <td>3994.251794</td>\n",
       "      <td>0.000000</td>\n",
       "      <td>68.000000</td>\n",
       "      <td>6.000000</td>\n",
       "      <td>24.000000</td>\n",
       "      <td>0.000000</td>\n",
       "      <td>1.000000</td>\n",
       "      <td>272.258244</td>\n",
       "    </tr>\n",
       "    <tr>\n",
       "      <th>50%</th>\n",
       "      <td>5780.182197</td>\n",
       "      <td>33889.500000</td>\n",
       "      <td>83.000000</td>\n",
       "      <td>14.000000</td>\n",
       "      <td>48.000000</td>\n",
       "      <td>0.000000</td>\n",
       "      <td>2.000000</td>\n",
       "      <td>383.945434</td>\n",
       "    </tr>\n",
       "    <tr>\n",
       "      <th>75%</th>\n",
       "      <td>8962.167041</td>\n",
       "      <td>62320.000000</td>\n",
       "      <td>109.000000</td>\n",
       "      <td>23.000000</td>\n",
       "      <td>71.000000</td>\n",
       "      <td>0.000000</td>\n",
       "      <td>4.000000</td>\n",
       "      <td>547.514839</td>\n",
       "    </tr>\n",
       "    <tr>\n",
       "      <th>max</th>\n",
       "      <td>83325.381190</td>\n",
       "      <td>99981.000000</td>\n",
       "      <td>298.000000</td>\n",
       "      <td>35.000000</td>\n",
       "      <td>99.000000</td>\n",
       "      <td>5.000000</td>\n",
       "      <td>9.000000</td>\n",
       "      <td>2893.239678</td>\n",
       "    </tr>\n",
       "  </tbody>\n",
       "</table>\n",
       "</div>"
      ],
      "text/plain": [
       "       customer_lifetime_value        income  monthly_premium_auto  \\\n",
       "count              9134.000000   9134.000000           9134.000000   \n",
       "mean               8004.940475  37657.380009             93.219291   \n",
       "std                6870.967608  30379.904734             34.407967   \n",
       "min                1898.007675      0.000000             61.000000   \n",
       "25%                3994.251794      0.000000             68.000000   \n",
       "50%                5780.182197  33889.500000             83.000000   \n",
       "75%                8962.167041  62320.000000            109.000000   \n",
       "max               83325.381190  99981.000000            298.000000   \n",
       "\n",
       "       months_since_last_claim  months_since_policy_inception  \\\n",
       "count              9134.000000                    9134.000000   \n",
       "mean                 15.097000                      48.064594   \n",
       "std                  10.073257                      27.905991   \n",
       "min                   0.000000                       0.000000   \n",
       "25%                   6.000000                      24.000000   \n",
       "50%                  14.000000                      48.000000   \n",
       "75%                  23.000000                      71.000000   \n",
       "max                  35.000000                      99.000000   \n",
       "\n",
       "       number_of_open_complaints  number_of_policies  total_claim_amount  \n",
       "count                9134.000000         9134.000000         9134.000000  \n",
       "mean                    0.384388            2.966170          434.088794  \n",
       "std                     0.910384            2.390182          290.500092  \n",
       "min                     0.000000            1.000000            0.099007  \n",
       "25%                     0.000000            1.000000          272.258244  \n",
       "50%                     0.000000            2.000000          383.945434  \n",
       "75%                     0.000000            4.000000          547.514839  \n",
       "max                     5.000000            9.000000         2893.239678  "
      ]
     },
     "execution_count": 5,
     "metadata": {},
     "output_type": "execute_result"
    }
   ],
   "source": [
    "# Describe DataFrame.\n",
    "df.describe()"
   ]
  },
  {
   "cell_type": "code",
   "execution_count": 6,
   "id": "6a77abfc",
   "metadata": {
    "scrolled": true
   },
   "outputs": [
    {
     "name": "stdout",
     "output_type": "stream",
     "text": [
      "<class 'pandas.core.frame.DataFrame'>\n",
      "RangeIndex: 9134 entries, 0 to 9133\n",
      "Data columns (total 24 columns):\n",
      " #   Column                         Non-Null Count  Dtype  \n",
      "---  ------                         --------------  -----  \n",
      " 0   customer                       9134 non-null   object \n",
      " 1   state                          9134 non-null   object \n",
      " 2   customer_lifetime_value        9134 non-null   float64\n",
      " 3   response                       9134 non-null   object \n",
      " 4   coverage                       9134 non-null   object \n",
      " 5   education                      9134 non-null   object \n",
      " 6   effective_to_date              9134 non-null   object \n",
      " 7   employmentstatus               9134 non-null   object \n",
      " 8   gender                         9134 non-null   object \n",
      " 9   income                         9134 non-null   int64  \n",
      " 10  location_code                  9134 non-null   object \n",
      " 11  marital_status                 9134 non-null   object \n",
      " 12  monthly_premium_auto           9134 non-null   int64  \n",
      " 13  months_since_last_claim        9134 non-null   int64  \n",
      " 14  months_since_policy_inception  9134 non-null   int64  \n",
      " 15  number_of_open_complaints      9134 non-null   int64  \n",
      " 16  number_of_policies             9134 non-null   int64  \n",
      " 17  policy_type                    9134 non-null   object \n",
      " 18  policy                         9134 non-null   object \n",
      " 19  renew_offer_type               9134 non-null   object \n",
      " 20  sales_channel                  9134 non-null   object \n",
      " 21  total_claim_amount             9134 non-null   float64\n",
      " 22  vehicle_class                  9134 non-null   object \n",
      " 23  vehicle_size                   9134 non-null   object \n",
      "dtypes: float64(2), int64(6), object(16)\n",
      "memory usage: 1.7+ MB\n"
     ]
    }
   ],
   "source": [
    "df.info()"
   ]
  },
  {
   "cell_type": "code",
   "execution_count": 7,
   "id": "c4f0eee1",
   "metadata": {},
   "outputs": [
    {
     "data": {
      "text/plain": [
       "Text(0.5, 1.0, 'Total number of responses')"
      ]
     },
     "execution_count": 7,
     "metadata": {},
     "output_type": "execute_result"
    },
    {
     "data": {
      "image/png": "[encoded data removed]",
      "text/plain": [
       "<Figure size 400x400 with 1 Axes>"
      ]
     },
     "metadata": {},
     "output_type": "display_data"
    }
   ],
   "source": [
    "# Show a plot of the total number of responses.\n",
    "total_resp = df[\"response\"].value_counts()\n",
    "total_resp.plot.bar(figsize=(4,4))\n",
    "\n",
    "plt.xlabel(\"Response\")\n",
    "plt.ylabel(\"Count\")\n",
    "plt.title(\"Total number of responses\")\n",
    "#plt.show()"
   ]
  },
  {
   "cell_type": "code",
   "execution_count": 8,
   "id": "cc51cba3",
   "metadata": {
    "scrolled": false
   },
   "outputs": [
    {
     "data": {
      "text/plain": [
       "<AxesSubplot:title={'center':'Total number of responses'}>"
      ]
     },
     "execution_count": 8,
     "metadata": {},
     "output_type": "execute_result"
    },
    {
     "data": {
      "image/png": "[encoded data removed]",
      "text/plain": [
       "<Figure size 400x400 with 1 Axes>"
      ]
     },
     "metadata": {},
     "output_type": "display_data"
    }
   ],
   "source": [
    "# Show a plot of the total number of responses.\n",
    "# The shortest line\n",
    "df[\"response\"].value_counts().plot.bar(x=\"Response\", y=\"Count\", title=\"Total number of responses\", figsize=(4,4))\n"
   ]
  },
  {
   "cell_type": "code",
   "execution_count": null,
   "id": "05b9946e",
   "metadata": {},
   "outputs": [],
   "source": []
  },
  {
   "cell_type": "code",
   "execution_count": 9,
   "id": "8dcbc394",
   "metadata": {
    "scrolled": false
   },
   "outputs": [
    {
     "data": {
      "text/plain": [
       "sales_channel  response\n",
       "Agent          No          2811\n",
       "               Yes          666\n",
       "Branch         No          2273\n",
       "               Yes          294\n",
       "Call Center    No          1573\n",
       "               Yes          192\n",
       "Web            No          1169\n",
       "               Yes          156\n",
       "dtype: int64"
      ]
     },
     "execution_count": 9,
     "metadata": {},
     "output_type": "execute_result"
    }
   ],
   "source": [
    "# to understand data\n",
    "df2 = df.groupby(['sales_channel','response']).size()\n",
    "df2"
   ]
  },
  {
   "cell_type": "code",
   "execution_count": 10,
   "id": "ed4a9b85",
   "metadata": {
    "scrolled": false
   },
   "outputs": [
    {
     "data": {
      "text/html": [
       "<div>\n",
       "<style scoped>\n",
       "    .dataframe tbody tr th:only-of-type {\n",
       "        vertical-align: middle;\n",
       "    }\n",
       "\n",
       "    .dataframe tbody tr th {\n",
       "        vertical-align: top;\n",
       "    }\n",
       "\n",
       "    .dataframe thead th {\n",
       "        text-align: right;\n",
       "    }\n",
       "</style>\n",
       "<table border=\"1\" class=\"dataframe\">\n",
       "  <thead>\n",
       "    <tr style=\"text-align: right;\">\n",
       "      <th>response</th>\n",
       "      <th>No</th>\n",
       "      <th>Yes</th>\n",
       "    </tr>\n",
       "    <tr>\n",
       "      <th>sales_channel</th>\n",
       "      <th></th>\n",
       "      <th></th>\n",
       "    </tr>\n",
       "  </thead>\n",
       "  <tbody>\n",
       "    <tr>\n",
       "      <th>Agent</th>\n",
       "      <td>2811</td>\n",
       "      <td>666</td>\n",
       "    </tr>\n",
       "    <tr>\n",
       "      <th>Branch</th>\n",
       "      <td>2273</td>\n",
       "      <td>294</td>\n",
       "    </tr>\n",
       "    <tr>\n",
       "      <th>Call Center</th>\n",
       "      <td>1573</td>\n",
       "      <td>192</td>\n",
       "    </tr>\n",
       "    <tr>\n",
       "      <th>Web</th>\n",
       "      <td>1169</td>\n",
       "      <td>156</td>\n",
       "    </tr>\n",
       "  </tbody>\n",
       "</table>\n",
       "</div>"
      ],
      "text/plain": [
       "response         No  Yes\n",
       "sales_channel           \n",
       "Agent          2811  666\n",
       "Branch         2273  294\n",
       "Call Center    1573  192\n",
       "Web            1169  156"
      ]
     },
     "execution_count": 10,
     "metadata": {},
     "output_type": "execute_result"
    }
   ],
   "source": [
    "df2 = df2.unstack()\n",
    "df2"
   ]
  },
  {
   "cell_type": "code",
   "execution_count": 11,
   "id": "32f9157a",
   "metadata": {
    "scrolled": true
   },
   "outputs": [
    {
     "data": {
      "text/html": [
       "<div>\n",
       "<style scoped>\n",
       "    .dataframe tbody tr th:only-of-type {\n",
       "        vertical-align: middle;\n",
       "    }\n",
       "\n",
       "    .dataframe tbody tr th {\n",
       "        vertical-align: top;\n",
       "    }\n",
       "\n",
       "    .dataframe thead th {\n",
       "        text-align: right;\n",
       "    }\n",
       "</style>\n",
       "<table border=\"1\" class=\"dataframe\">\n",
       "  <thead>\n",
       "    <tr style=\"text-align: right;\">\n",
       "      <th>response</th>\n",
       "      <th>No</th>\n",
       "      <th>Yes</th>\n",
       "    </tr>\n",
       "    <tr>\n",
       "      <th>sales_channel</th>\n",
       "      <th></th>\n",
       "      <th></th>\n",
       "    </tr>\n",
       "  </thead>\n",
       "  <tbody>\n",
       "    <tr>\n",
       "      <th>Agent</th>\n",
       "      <td>2811</td>\n",
       "      <td>666</td>\n",
       "    </tr>\n",
       "    <tr>\n",
       "      <th>Branch</th>\n",
       "      <td>2273</td>\n",
       "      <td>294</td>\n",
       "    </tr>\n",
       "    <tr>\n",
       "      <th>Call Center</th>\n",
       "      <td>1573</td>\n",
       "      <td>192</td>\n",
       "    </tr>\n",
       "    <tr>\n",
       "      <th>Web</th>\n",
       "      <td>1169</td>\n",
       "      <td>156</td>\n",
       "    </tr>\n",
       "  </tbody>\n",
       "</table>\n",
       "</div>"
      ],
      "text/plain": [
       "response         No  Yes\n",
       "sales_channel           \n",
       "Agent          2811  666\n",
       "Branch         2273  294\n",
       "Call Center    1573  192\n",
       "Web            1169  156"
      ]
     },
     "execution_count": 11,
     "metadata": {},
     "output_type": "execute_result"
    }
   ],
   "source": [
    "# or instead of using groupby().size()\n",
    "# we can do the same using --> value_counts()\n",
    "\n",
    "df[[\"sales_channel\", \"response\"]].value_counts().unstack()\n"
   ]
  },
  {
   "cell_type": "code",
   "execution_count": 12,
   "id": "c61dde3a",
   "metadata": {
    "scrolled": true
   },
   "outputs": [
    {
     "data": {
      "text/html": [
       "<div>\n",
       "<style scoped>\n",
       "    .dataframe tbody tr th:only-of-type {\n",
       "        vertical-align: middle;\n",
       "    }\n",
       "\n",
       "    .dataframe tbody tr th {\n",
       "        vertical-align: top;\n",
       "    }\n",
       "\n",
       "    .dataframe thead th {\n",
       "        text-align: right;\n",
       "    }\n",
       "</style>\n",
       "<table border=\"1\" class=\"dataframe\">\n",
       "  <thead>\n",
       "    <tr style=\"text-align: right;\">\n",
       "      <th></th>\n",
       "      <th>sales_channel</th>\n",
       "      <th>response</th>\n",
       "    </tr>\n",
       "  </thead>\n",
       "  <tbody>\n",
       "    <tr>\n",
       "      <th>0</th>\n",
       "      <td>Agent</td>\n",
       "      <td>No</td>\n",
       "    </tr>\n",
       "    <tr>\n",
       "      <th>1</th>\n",
       "      <td>Agent</td>\n",
       "      <td>No</td>\n",
       "    </tr>\n",
       "    <tr>\n",
       "      <th>2</th>\n",
       "      <td>Agent</td>\n",
       "      <td>No</td>\n",
       "    </tr>\n",
       "    <tr>\n",
       "      <th>3</th>\n",
       "      <td>Call Center</td>\n",
       "      <td>No</td>\n",
       "    </tr>\n",
       "    <tr>\n",
       "      <th>4</th>\n",
       "      <td>Agent</td>\n",
       "      <td>No</td>\n",
       "    </tr>\n",
       "    <tr>\n",
       "      <th>...</th>\n",
       "      <td>...</td>\n",
       "      <td>...</td>\n",
       "    </tr>\n",
       "    <tr>\n",
       "      <th>9129</th>\n",
       "      <td>Web</td>\n",
       "      <td>No</td>\n",
       "    </tr>\n",
       "    <tr>\n",
       "      <th>9130</th>\n",
       "      <td>Branch</td>\n",
       "      <td>Yes</td>\n",
       "    </tr>\n",
       "    <tr>\n",
       "      <th>9131</th>\n",
       "      <td>Branch</td>\n",
       "      <td>No</td>\n",
       "    </tr>\n",
       "    <tr>\n",
       "      <th>9132</th>\n",
       "      <td>Branch</td>\n",
       "      <td>No</td>\n",
       "    </tr>\n",
       "    <tr>\n",
       "      <th>9133</th>\n",
       "      <td>Call Center</td>\n",
       "      <td>No</td>\n",
       "    </tr>\n",
       "  </tbody>\n",
       "</table>\n",
       "<p>9134 rows × 2 columns</p>\n",
       "</div>"
      ],
      "text/plain": [
       "     sales_channel response\n",
       "0            Agent       No\n",
       "1            Agent       No\n",
       "2            Agent       No\n",
       "3      Call Center       No\n",
       "4            Agent       No\n",
       "...            ...      ...\n",
       "9129           Web       No\n",
       "9130        Branch      Yes\n",
       "9131        Branch       No\n",
       "9132        Branch       No\n",
       "9133   Call Center       No\n",
       "\n",
       "[9134 rows x 2 columns]"
      ]
     },
     "execution_count": 12,
     "metadata": {},
     "output_type": "execute_result"
    }
   ],
   "source": [
    "# create new dataframe from \"sales_channel\", \"response\"\n",
    "df_sales_resp = df[[\"sales_channel\", \"response\"]]\n",
    "df_sales_resp\n",
    "# df2 = df.groupby(['sales_channel','response']).size()"
   ]
  },
  {
   "cell_type": "code",
   "execution_count": 13,
   "id": "18c43748",
   "metadata": {
    "scrolled": true
   },
   "outputs": [
    {
     "data": {
      "text/html": [
       "<div>\n",
       "<style scoped>\n",
       "    .dataframe tbody tr th:only-of-type {\n",
       "        vertical-align: middle;\n",
       "    }\n",
       "\n",
       "    .dataframe tbody tr th {\n",
       "        vertical-align: top;\n",
       "    }\n",
       "\n",
       "    .dataframe thead tr th {\n",
       "        text-align: left;\n",
       "    }\n",
       "</style>\n",
       "<table border=\"1\" class=\"dataframe\">\n",
       "  <thead>\n",
       "    <tr>\n",
       "      <th></th>\n",
       "      <th colspan=\"2\" halign=\"left\">sales_channel</th>\n",
       "    </tr>\n",
       "    <tr>\n",
       "      <th>response</th>\n",
       "      <th>No</th>\n",
       "      <th>Yes</th>\n",
       "    </tr>\n",
       "  </thead>\n",
       "  <tbody>\n",
       "    <tr>\n",
       "      <th>0</th>\n",
       "      <td>Agent</td>\n",
       "      <td>NaN</td>\n",
       "    </tr>\n",
       "    <tr>\n",
       "      <th>1</th>\n",
       "      <td>Agent</td>\n",
       "      <td>NaN</td>\n",
       "    </tr>\n",
       "    <tr>\n",
       "      <th>2</th>\n",
       "      <td>Agent</td>\n",
       "      <td>NaN</td>\n",
       "    </tr>\n",
       "    <tr>\n",
       "      <th>3</th>\n",
       "      <td>Call Center</td>\n",
       "      <td>NaN</td>\n",
       "    </tr>\n",
       "    <tr>\n",
       "      <th>4</th>\n",
       "      <td>Agent</td>\n",
       "      <td>NaN</td>\n",
       "    </tr>\n",
       "    <tr>\n",
       "      <th>...</th>\n",
       "      <td>...</td>\n",
       "      <td>...</td>\n",
       "    </tr>\n",
       "    <tr>\n",
       "      <th>9129</th>\n",
       "      <td>Web</td>\n",
       "      <td>NaN</td>\n",
       "    </tr>\n",
       "    <tr>\n",
       "      <th>9130</th>\n",
       "      <td>NaN</td>\n",
       "      <td>Branch</td>\n",
       "    </tr>\n",
       "    <tr>\n",
       "      <th>9131</th>\n",
       "      <td>Branch</td>\n",
       "      <td>NaN</td>\n",
       "    </tr>\n",
       "    <tr>\n",
       "      <th>9132</th>\n",
       "      <td>Branch</td>\n",
       "      <td>NaN</td>\n",
       "    </tr>\n",
       "    <tr>\n",
       "      <th>9133</th>\n",
       "      <td>Call Center</td>\n",
       "      <td>NaN</td>\n",
       "    </tr>\n",
       "  </tbody>\n",
       "</table>\n",
       "<p>9134 rows × 2 columns</p>\n",
       "</div>"
      ],
      "text/plain": [
       "         sales_channel        \n",
       "response            No     Yes\n",
       "0                Agent     NaN\n",
       "1                Agent     NaN\n",
       "2                Agent     NaN\n",
       "3          Call Center     NaN\n",
       "4                Agent     NaN\n",
       "...                ...     ...\n",
       "9129               Web     NaN\n",
       "9130               NaN  Branch\n",
       "9131            Branch     NaN\n",
       "9132            Branch     NaN\n",
       "9133       Call Center     NaN\n",
       "\n",
       "[9134 rows x 2 columns]"
      ]
     },
     "execution_count": 13,
     "metadata": {},
     "output_type": "execute_result"
    }
   ],
   "source": [
    "df_sales_resp = df_sales_resp.pivot(columns='response')\n",
    "df_sales_resp"
   ]
  },
  {
   "cell_type": "code",
   "execution_count": 14,
   "id": "a1963ead",
   "metadata": {},
   "outputs": [],
   "source": [
    "sales_resp_no = df_sales_resp[\"sales_channel\", \"No\"].value_counts()\n",
    "sales_resp_yes = df_sales_resp[\"sales_channel\", \"Yes\"].value_counts()"
   ]
  },
  {
   "cell_type": "code",
   "execution_count": 15,
   "id": "03e0d024",
   "metadata": {
    "scrolled": false
   },
   "outputs": [
    {
     "data": {
      "text/plain": [
       "Agent          19.154443\n",
       "Branch         11.453058\n",
       "Call Center    10.878187\n",
       "Web            11.773585\n",
       "dtype: float64"
      ]
     },
     "execution_count": 15,
     "metadata": {},
     "output_type": "execute_result"
    }
   ],
   "source": [
    "# calculate response rate\n",
    "\n",
    "sales_resp_result = sales_resp_yes/(sales_resp_yes + sales_resp_no)*100\n",
    "sales_resp_result"
   ]
  },
  {
   "cell_type": "code",
   "execution_count": 16,
   "id": "e2376051",
   "metadata": {},
   "outputs": [
    {
     "data": {
      "text/plain": [
       "[19.15444348576359, 11.453058044409817, 10.878186968838527, 11.773584905660377]"
      ]
     },
     "execution_count": 16,
     "metadata": {},
     "output_type": "execute_result"
    }
   ],
   "source": [
    "sale_resp_rate_list = list()\n",
    "for j in range(len(sales_resp_result)):\n",
    "    sale_resp_rate_list.append(sales_resp_result[j])\n",
    "\n",
    "sale_resp_rate_list\n",
    "    "
   ]
  },
  {
   "cell_type": "code",
   "execution_count": 17,
   "id": "47efa11b",
   "metadata": {
    "scrolled": true
   },
   "outputs": [
    {
     "data": {
      "text/html": [
       "<div>\n",
       "<style scoped>\n",
       "    .dataframe tbody tr th:only-of-type {\n",
       "        vertical-align: middle;\n",
       "    }\n",
       "\n",
       "    .dataframe tbody tr th {\n",
       "        vertical-align: top;\n",
       "    }\n",
       "\n",
       "    .dataframe thead th {\n",
       "        text-align: right;\n",
       "    }\n",
       "</style>\n",
       "<table border=\"1\" class=\"dataframe\">\n",
       "  <thead>\n",
       "    <tr style=\"text-align: right;\">\n",
       "      <th></th>\n",
       "      <th>sales_channel</th>\n",
       "      <th>sale_resp_rate</th>\n",
       "    </tr>\n",
       "  </thead>\n",
       "  <tbody>\n",
       "    <tr>\n",
       "      <th>0</th>\n",
       "      <td>Agent</td>\n",
       "      <td>19.15</td>\n",
       "    </tr>\n",
       "    <tr>\n",
       "      <th>1</th>\n",
       "      <td>Branch</td>\n",
       "      <td>11.45</td>\n",
       "    </tr>\n",
       "    <tr>\n",
       "      <th>2</th>\n",
       "      <td>Call Center</td>\n",
       "      <td>10.88</td>\n",
       "    </tr>\n",
       "    <tr>\n",
       "      <th>3</th>\n",
       "      <td>Web</td>\n",
       "      <td>11.77</td>\n",
       "    </tr>\n",
       "  </tbody>\n",
       "</table>\n",
       "</div>"
      ],
      "text/plain": [
       "  sales_channel  sale_resp_rate\n",
       "0         Agent           19.15\n",
       "1        Branch           11.45\n",
       "2   Call Center           10.88\n",
       "3           Web           11.77"
      ]
     },
     "execution_count": 17,
     "metadata": {},
     "output_type": "execute_result"
    }
   ],
   "source": [
    "df_sales_resp_rate = {\"sales_channel\": ['Agent', 'Branch', 'Call Center', 'Web'],\n",
    "                       \"sale_resp_rate\": sale_resp_rate_list}\n",
    "sales_resp_rate_table = pd.DataFrame(df_sales_resp_rate).round(2)\n",
    "sales_resp_rate_table"
   ]
  },
  {
   "cell_type": "code",
   "execution_count": 18,
   "id": "0a694659",
   "metadata": {
    "scrolled": true
   },
   "outputs": [
    {
     "data": {
      "image/png": "[encoded data removed]",
      "text/plain": [
       "<Figure size 400x300 with 1 Axes>"
      ]
     },
     "metadata": {},
     "output_type": "display_data"
    }
   ],
   "source": [
    "plt.figure(figsize=(4,3))\n",
    "sns.barplot(x=\"sales_channel\", y=\"sale_resp_rate\", data=sales_resp_rate_table)\n",
    "plt.xlabel(\"Sales Channel\")\n",
    "plt.ylabel(\"Response Rate (%)\")\n",
    "plt.title(\"Plot of the response rate by the sales channel\")\n",
    "plt.show()"
   ]
  },
  {
   "cell_type": "markdown",
   "id": "2b9e7906",
   "metadata": {},
   "source": [
    "# Best Solution\n",
    "\n",
    "Instead of doing too many step, use **sns.countplot()** to automatically count the values in the column & plot into a graph.\n",
    "\n",
    "\n"
   ]
  },
  {
   "cell_type": "code",
   "execution_count": 25,
   "id": "b99e2d9f",
   "metadata": {
    "scrolled": true
   },
   "outputs": [
    {
     "data": {
      "text/plain": [
       "<AxesSubplot:xlabel='sales_channel', ylabel='count'>"
      ]
     },
     "execution_count": 25,
     "metadata": {},
     "output_type": "execute_result"
    },
    {
     "data": {
      "image/png": "[encoded data removed]",
      "text/plain": [
       "<Figure size 640x480 with 1 Axes>"
      ]
     },
     "metadata": {},
     "output_type": "display_data"
    }
   ],
   "source": [
    "# simple plot in one line\n",
    "sns.countplot('sales_channel', hue='response', data=df)\n"
   ]
  },
  {
   "cell_type": "markdown",
   "id": "a0ae42ba",
   "metadata": {},
   "source": [
    "## plot with percentage\n",
    "\n",
    "g = sns.catplot(x=\"sales_channel\",y=\"percent\", hue=\"response\", kind=\"bar\", data=new_df)\n",
    "g.ax.set_ylim(0,100)   #sets the limit of y axis from 0-100\n",
    "plt.title(\"Response Rate by Sales Channel\")\n",
    "\n",
    "#LOOP through each bar in the graph to add the percentage value\n",
    "for p in g.ax.patches:\n",
    "    txt=str(p.get_height().round(1)) + '%'\n",
    "    txt_x = p.get_x()\n",
    "    txt_y = p.get_height()\n",
    "    g.ax.text(txt_x, txt_y, txt)\n",
    "    "
   ]
  },
  {
   "cell_type": "markdown",
   "id": "94aaa09a",
   "metadata": {},
   "source": [
    "## Show a plot of the response rate by the total claim amount."
   ]
  },
  {
   "cell_type": "code",
   "execution_count": 18,
   "id": "9372a216",
   "metadata": {
    "scrolled": true
   },
   "outputs": [
    {
     "name": "stdout",
     "output_type": "stream",
     "text": [
      "count    9134.000000\n",
      "mean      434.088794\n",
      "std       290.500092\n",
      "min         0.099007\n",
      "25%       272.258244\n",
      "50%       383.945434\n",
      "75%       547.514839\n",
      "max      2893.239678\n",
      "Name: total_claim_amount, dtype: float64\n",
      "MEDIAN 383.94543350000004\n",
      "MODE 0    316.8\n",
      "Name: total_claim_amount, dtype: float64\n"
     ]
    },
    {
     "data": {
      "text/plain": [
       "<AxesSubplot:xlabel='total_claim_amount', ylabel='Density'>"
      ]
     },
     "execution_count": 18,
     "metadata": {},
     "output_type": "execute_result"
    },
    {
     "data": {
      "image/png": "[encoded data removed]",
      "text/plain": [
       "<Figure size 640x480 with 1 Axes>"
      ]
     },
     "metadata": {},
     "output_type": "display_data"
    }
   ],
   "source": [
    "# check data distribution\n",
    "\n",
    "print(df['total_claim_amount'].describe())\n",
    "print(\"MEDIAN\", df['total_claim_amount'].median())\n",
    "print(\"MODE\", df['total_claim_amount'].mode())\n",
    "\n",
    "\n",
    "sns.distplot(df['total_claim_amount'])"
   ]
  },
  {
   "cell_type": "code",
   "execution_count": 19,
   "id": "6c9df751",
   "metadata": {},
   "outputs": [
    {
     "data": {
      "text/plain": [
       "0       (383.945, 547.515]\n",
       "1       (547.515, 2893.24]\n",
       "2       (547.515, 2893.24]\n",
       "3       (383.945, 547.515]\n",
       "4         (0.098, 272.258]\n",
       "               ...        \n",
       "9129      (0.098, 272.258]\n",
       "9130    (272.258, 383.945]\n",
       "9131    (547.515, 2893.24]\n",
       "9132    (547.515, 2893.24]\n",
       "9133    (272.258, 383.945]\n",
       "Name: total_claim_amount, Length: 9134, dtype: category\n",
       "Categories (4, interval[float64, right]): [(0.098, 272.258] < (272.258, 383.945] < (383.945, 547.515] < (547.515, 2893.24]]"
      ]
     },
     "execution_count": 19,
     "metadata": {},
     "output_type": "execute_result"
    }
   ],
   "source": [
    "# create a proper range to calculate a \"response rate\" of each range\n",
    "# I chose to part them base on quartile range\n",
    "\n",
    "# use qcut() to create 4 groups of data (Q1 -Q4)\n",
    "pd.qcut(df['total_claim_amount'], q=4)"
   ]
  },
  {
   "cell_type": "code",
   "execution_count": 20,
   "id": "f60606f7",
   "metadata": {},
   "outputs": [
    {
     "data": {
      "text/html": [
       "<div>\n",
       "<style scoped>\n",
       "    .dataframe tbody tr th:only-of-type {\n",
       "        vertical-align: middle;\n",
       "    }\n",
       "\n",
       "    .dataframe tbody tr th {\n",
       "        vertical-align: top;\n",
       "    }\n",
       "\n",
       "    .dataframe thead th {\n",
       "        text-align: right;\n",
       "    }\n",
       "</style>\n",
       "<table border=\"1\" class=\"dataframe\">\n",
       "  <thead>\n",
       "    <tr style=\"text-align: right;\">\n",
       "      <th></th>\n",
       "      <th>total_claim_amount</th>\n",
       "      <th>total_claim_amount_quartile</th>\n",
       "    </tr>\n",
       "  </thead>\n",
       "  <tbody>\n",
       "    <tr>\n",
       "      <th>0</th>\n",
       "      <td>384.811147</td>\n",
       "      <td>Q3</td>\n",
       "    </tr>\n",
       "    <tr>\n",
       "      <th>1</th>\n",
       "      <td>1131.464935</td>\n",
       "      <td>Q4</td>\n",
       "    </tr>\n",
       "    <tr>\n",
       "      <th>2</th>\n",
       "      <td>566.472247</td>\n",
       "      <td>Q4</td>\n",
       "    </tr>\n",
       "    <tr>\n",
       "      <th>3</th>\n",
       "      <td>529.881344</td>\n",
       "      <td>Q3</td>\n",
       "    </tr>\n",
       "    <tr>\n",
       "      <th>4</th>\n",
       "      <td>138.130879</td>\n",
       "      <td>Q1</td>\n",
       "    </tr>\n",
       "    <tr>\n",
       "      <th>...</th>\n",
       "      <td>...</td>\n",
       "      <td>...</td>\n",
       "    </tr>\n",
       "    <tr>\n",
       "      <th>9129</th>\n",
       "      <td>198.234764</td>\n",
       "      <td>Q1</td>\n",
       "    </tr>\n",
       "    <tr>\n",
       "      <th>9130</th>\n",
       "      <td>379.200000</td>\n",
       "      <td>Q2</td>\n",
       "    </tr>\n",
       "    <tr>\n",
       "      <th>9131</th>\n",
       "      <td>790.784983</td>\n",
       "      <td>Q4</td>\n",
       "    </tr>\n",
       "    <tr>\n",
       "      <th>9132</th>\n",
       "      <td>691.200000</td>\n",
       "      <td>Q4</td>\n",
       "    </tr>\n",
       "    <tr>\n",
       "      <th>9133</th>\n",
       "      <td>369.600000</td>\n",
       "      <td>Q2</td>\n",
       "    </tr>\n",
       "  </tbody>\n",
       "</table>\n",
       "<p>9134 rows × 2 columns</p>\n",
       "</div>"
      ],
      "text/plain": [
       "      total_claim_amount total_claim_amount_quartile\n",
       "0             384.811147                          Q3\n",
       "1            1131.464935                          Q4\n",
       "2             566.472247                          Q4\n",
       "3             529.881344                          Q3\n",
       "4             138.130879                          Q1\n",
       "...                  ...                         ...\n",
       "9129          198.234764                          Q1\n",
       "9130          379.200000                          Q2\n",
       "9131          790.784983                          Q4\n",
       "9132          691.200000                          Q4\n",
       "9133          369.600000                          Q2\n",
       "\n",
       "[9134 rows x 2 columns]"
      ]
     },
     "execution_count": 20,
     "metadata": {},
     "output_type": "execute_result"
    }
   ],
   "source": [
    "# store the bin results back in the original dataframe for future analysis. \n",
    "# For this example, create 4 bins (4 quartiles) \n",
    "\n",
    "# create a new column 'total_claim_amount_quartile' & store data in this column & give a value of 'Q1', 'Q2', 'Q3', 'Q4'\n",
    "df['total_claim_amount_quartile'] = pd.qcut(df['total_claim_amount'], q=4, labels=['Q1', 'Q2', 'Q3', 'Q4'])\n",
    "\n",
    "df[['total_claim_amount', 'total_claim_amount_quartile']]\n"
   ]
  },
  {
   "cell_type": "code",
   "execution_count": 21,
   "id": "2f4bfa79",
   "metadata": {},
   "outputs": [],
   "source": [
    "# have a new data frame to work on it\n",
    "df_claim_resp = df[['total_claim_amount', 'total_claim_amount_quartile','response']]"
   ]
  },
  {
   "cell_type": "code",
   "execution_count": 22,
   "id": "90c738fd",
   "metadata": {
    "scrolled": true
   },
   "outputs": [
    {
     "data": {
      "text/html": [
       "<div>\n",
       "<style scoped>\n",
       "    .dataframe tbody tr th:only-of-type {\n",
       "        vertical-align: middle;\n",
       "    }\n",
       "\n",
       "    .dataframe tbody tr th {\n",
       "        vertical-align: top;\n",
       "    }\n",
       "\n",
       "    .dataframe thead th {\n",
       "        text-align: right;\n",
       "    }\n",
       "</style>\n",
       "<table border=\"1\" class=\"dataframe\">\n",
       "  <thead>\n",
       "    <tr style=\"text-align: right;\">\n",
       "      <th>response</th>\n",
       "      <th>No</th>\n",
       "      <th>Yes</th>\n",
       "    </tr>\n",
       "    <tr>\n",
       "      <th>total_claim_amount_quartile</th>\n",
       "      <th></th>\n",
       "      <th></th>\n",
       "    </tr>\n",
       "  </thead>\n",
       "  <tbody>\n",
       "    <tr>\n",
       "      <th>Q1</th>\n",
       "      <td>2074</td>\n",
       "      <td>210</td>\n",
       "    </tr>\n",
       "    <tr>\n",
       "      <th>Q2</th>\n",
       "      <td>1911</td>\n",
       "      <td>372</td>\n",
       "    </tr>\n",
       "    <tr>\n",
       "      <th>Q3</th>\n",
       "      <td>1875</td>\n",
       "      <td>408</td>\n",
       "    </tr>\n",
       "    <tr>\n",
       "      <th>Q4</th>\n",
       "      <td>1966</td>\n",
       "      <td>318</td>\n",
       "    </tr>\n",
       "  </tbody>\n",
       "</table>\n",
       "</div>"
      ],
      "text/plain": [
       "response                       No  Yes\n",
       "total_claim_amount_quartile           \n",
       "Q1                           2074  210\n",
       "Q2                           1911  372\n",
       "Q3                           1875  408\n",
       "Q4                           1966  318"
      ]
     },
     "execution_count": 22,
     "metadata": {},
     "output_type": "execute_result"
    }
   ],
   "source": [
    "df_claim_resp.groupby(['total_claim_amount_quartile','response']).size().unstack()"
   ]
  },
  {
   "cell_type": "code",
   "execution_count": 23,
   "id": "07721c2e",
   "metadata": {},
   "outputs": [
    {
     "data": {
      "text/html": [
       "<div>\n",
       "<style scoped>\n",
       "    .dataframe tbody tr th:only-of-type {\n",
       "        vertical-align: middle;\n",
       "    }\n",
       "\n",
       "    .dataframe tbody tr th {\n",
       "        vertical-align: top;\n",
       "    }\n",
       "\n",
       "    .dataframe thead th {\n",
       "        text-align: right;\n",
       "    }\n",
       "</style>\n",
       "<table border=\"1\" class=\"dataframe\">\n",
       "  <thead>\n",
       "    <tr style=\"text-align: right;\">\n",
       "      <th>response</th>\n",
       "      <th>No</th>\n",
       "      <th>Yes</th>\n",
       "    </tr>\n",
       "    <tr>\n",
       "      <th>total_claim_amount_quartile</th>\n",
       "      <th></th>\n",
       "      <th></th>\n",
       "    </tr>\n",
       "  </thead>\n",
       "  <tbody>\n",
       "    <tr>\n",
       "      <th>Q1</th>\n",
       "      <td>2074</td>\n",
       "      <td>210</td>\n",
       "    </tr>\n",
       "    <tr>\n",
       "      <th>Q2</th>\n",
       "      <td>1911</td>\n",
       "      <td>372</td>\n",
       "    </tr>\n",
       "    <tr>\n",
       "      <th>Q3</th>\n",
       "      <td>1875</td>\n",
       "      <td>408</td>\n",
       "    </tr>\n",
       "    <tr>\n",
       "      <th>Q4</th>\n",
       "      <td>1966</td>\n",
       "      <td>318</td>\n",
       "    </tr>\n",
       "  </tbody>\n",
       "</table>\n",
       "</div>"
      ],
      "text/plain": [
       "response                       No  Yes\n",
       "total_claim_amount_quartile           \n",
       "Q1                           2074  210\n",
       "Q2                           1911  372\n",
       "Q3                           1875  408\n",
       "Q4                           1966  318"
      ]
     },
     "execution_count": 23,
     "metadata": {},
     "output_type": "execute_result"
    }
   ],
   "source": [
    "df_claim_resp_table = df_claim_resp.groupby(['total_claim_amount_quartile','response']).size().unstack()\n",
    "df_claim_resp_table"
   ]
  },
  {
   "cell_type": "code",
   "execution_count": 24,
   "id": "3b8ddd83",
   "metadata": {},
   "outputs": [],
   "source": [
    "claim_resp_result = df_claim_resp_table[\"Yes\"]/(df_claim_resp_table.sum(axis=1))*100"
   ]
  },
  {
   "cell_type": "code",
   "execution_count": 25,
   "id": "14fea842",
   "metadata": {},
   "outputs": [
    {
     "data": {
      "text/plain": [
       "[9.194395796847637, 16.29434954007884, 17.871222076215506, 13.922942206654993]"
      ]
     },
     "execution_count": 25,
     "metadata": {},
     "output_type": "execute_result"
    }
   ],
   "source": [
    "claim_resp_list = list()\n",
    "for k in range(len(claim_resp_result)):\n",
    "    claim_resp_list.append(claim_resp_result[k])\n",
    "\n",
    "claim_resp_list"
   ]
  },
  {
   "cell_type": "code",
   "execution_count": 26,
   "id": "ad1c94ff",
   "metadata": {},
   "outputs": [
    {
     "data": {
      "text/html": [
       "<div>\n",
       "<style scoped>\n",
       "    .dataframe tbody tr th:only-of-type {\n",
       "        vertical-align: middle;\n",
       "    }\n",
       "\n",
       "    .dataframe tbody tr th {\n",
       "        vertical-align: top;\n",
       "    }\n",
       "\n",
       "    .dataframe thead th {\n",
       "        text-align: right;\n",
       "    }\n",
       "</style>\n",
       "<table border=\"1\" class=\"dataframe\">\n",
       "  <thead>\n",
       "    <tr style=\"text-align: right;\">\n",
       "      <th></th>\n",
       "      <th>total_claim_amount_quartile</th>\n",
       "      <th>claim_resp_rate</th>\n",
       "    </tr>\n",
       "  </thead>\n",
       "  <tbody>\n",
       "    <tr>\n",
       "      <th>0</th>\n",
       "      <td>Q1</td>\n",
       "      <td>9.19</td>\n",
       "    </tr>\n",
       "    <tr>\n",
       "      <th>1</th>\n",
       "      <td>Q2</td>\n",
       "      <td>16.29</td>\n",
       "    </tr>\n",
       "    <tr>\n",
       "      <th>2</th>\n",
       "      <td>Q3</td>\n",
       "      <td>17.87</td>\n",
       "    </tr>\n",
       "    <tr>\n",
       "      <th>3</th>\n",
       "      <td>Q4</td>\n",
       "      <td>13.92</td>\n",
       "    </tr>\n",
       "  </tbody>\n",
       "</table>\n",
       "</div>"
      ],
      "text/plain": [
       "  total_claim_amount_quartile  claim_resp_rate\n",
       "0                          Q1             9.19\n",
       "1                          Q2            16.29\n",
       "2                          Q3            17.87\n",
       "3                          Q4            13.92"
      ]
     },
     "execution_count": 26,
     "metadata": {},
     "output_type": "execute_result"
    }
   ],
   "source": [
    "df_claim_resp_rate = {\"total_claim_amount_quartile\": ['Q1', 'Q2', 'Q3', 'Q4'],\n",
    "                       \"claim_resp_rate\": claim_resp_list}\n",
    "claim_resp_rate_table = pd.DataFrame(df_claim_resp_rate).round(2)\n",
    "claim_resp_rate_table"
   ]
  },
  {
   "cell_type": "code",
   "execution_count": 27,
   "id": "76a5f6a1",
   "metadata": {
    "scrolled": true
   },
   "outputs": [
    {
     "data": {
      "image/png": "[encoded data removed]",
      "text/plain": [
       "<Figure size 400x300 with 1 Axes>"
      ]
     },
     "metadata": {},
     "output_type": "display_data"
    }
   ],
   "source": [
    "plt.figure(figsize=(4,3))\n",
    "sns.barplot(x=\"total_claim_amount_quartile\", y=\"claim_resp_rate\", data=claim_resp_rate_table)\n",
    "plt.xlabel(\"Total Claim Amount in Quartile\")\n",
    "plt.ylabel(\"Response Rate (%)\")\n",
    "plt.title(\"Plot of the response rate by the total claim amount\")\n",
    "plt.show()"
   ]
  },
  {
   "cell_type": "markdown",
   "id": "299941b9",
   "metadata": {},
   "source": [
    "# Comment | Solution on \"Total Claim Amount Plot\"\n",
    "\n",
    "- When responding to Show a plot of the response rate by the total claim amount / income, **remember: know your data!:\n",
    " -- Response = categorical\n",
    " -- Total Claim Amount / Income = numerical continuous\n",
    "\n",
    "##### Therefore, we use box plots or histograms with multiple labels - it doesn’t make sense to use a bar plot! \n",
    "\n"
   ]
  },
  {
   "cell_type": "markdown",
   "id": "9141e5ad",
   "metadata": {},
   "source": [
    "## Show a plot of the response rate by income"
   ]
  },
  {
   "cell_type": "code",
   "execution_count": 28,
   "id": "dae49fd9",
   "metadata": {},
   "outputs": [
    {
     "name": "stdout",
     "output_type": "stream",
     "text": [
      "count     9134.000000\n",
      "mean     37657.380009\n",
      "std      30379.904734\n",
      "min          0.000000\n",
      "25%          0.000000\n",
      "50%      33889.500000\n",
      "75%      62320.000000\n",
      "max      99981.000000\n",
      "Name: income, dtype: float64\n",
      "MEDIAN 33889.5\n",
      "MODE 0    0\n",
      "Name: income, dtype: int64\n"
     ]
    },
    {
     "data": {
      "text/plain": [
       "<AxesSubplot:xlabel='income', ylabel='Density'>"
      ]
     },
     "execution_count": 28,
     "metadata": {},
     "output_type": "execute_result"
    },
    {
     "data": {
      "image/png": "[encoded data removed]",
      "text/plain": [
       "<Figure size 640x480 with 1 Axes>"
      ]
     },
     "metadata": {},
     "output_type": "display_data"
    }
   ],
   "source": [
    "# check data distribution of \"income\"\n",
    "\n",
    "print(df['income'].describe())\n",
    "print(\"MEDIAN\", df['income'].median())\n",
    "print(\"MODE\", df['income'].mode())\n",
    "\n",
    "sns.distplot(df['income'])"
   ]
  },
  {
   "cell_type": "code",
   "execution_count": 29,
   "id": "4137d3e5",
   "metadata": {
    "scrolled": true
   },
   "outputs": [
    {
     "data": {
      "text/html": [
       "<div>\n",
       "<style scoped>\n",
       "    .dataframe tbody tr th:only-of-type {\n",
       "        vertical-align: middle;\n",
       "    }\n",
       "\n",
       "    .dataframe tbody tr th {\n",
       "        vertical-align: top;\n",
       "    }\n",
       "\n",
       "    .dataframe thead th {\n",
       "        text-align: right;\n",
       "    }\n",
       "</style>\n",
       "<table border=\"1\" class=\"dataframe\">\n",
       "  <thead>\n",
       "    <tr style=\"text-align: right;\">\n",
       "      <th></th>\n",
       "      <th>income</th>\n",
       "      <th>income_group</th>\n",
       "    </tr>\n",
       "  </thead>\n",
       "  <tbody>\n",
       "    <tr>\n",
       "      <th>0</th>\n",
       "      <td>56274</td>\n",
       "      <td>middle</td>\n",
       "    </tr>\n",
       "    <tr>\n",
       "      <th>1</th>\n",
       "      <td>0</td>\n",
       "      <td>low</td>\n",
       "    </tr>\n",
       "    <tr>\n",
       "      <th>2</th>\n",
       "      <td>48767</td>\n",
       "      <td>middle</td>\n",
       "    </tr>\n",
       "    <tr>\n",
       "      <th>3</th>\n",
       "      <td>0</td>\n",
       "      <td>low</td>\n",
       "    </tr>\n",
       "    <tr>\n",
       "      <th>4</th>\n",
       "      <td>43836</td>\n",
       "      <td>middle</td>\n",
       "    </tr>\n",
       "    <tr>\n",
       "      <th>...</th>\n",
       "      <td>...</td>\n",
       "      <td>...</td>\n",
       "    </tr>\n",
       "    <tr>\n",
       "      <th>9129</th>\n",
       "      <td>71941</td>\n",
       "      <td>high</td>\n",
       "    </tr>\n",
       "    <tr>\n",
       "      <th>9130</th>\n",
       "      <td>21604</td>\n",
       "      <td>low</td>\n",
       "    </tr>\n",
       "    <tr>\n",
       "      <th>9131</th>\n",
       "      <td>0</td>\n",
       "      <td>low</td>\n",
       "    </tr>\n",
       "    <tr>\n",
       "      <th>9132</th>\n",
       "      <td>21941</td>\n",
       "      <td>low</td>\n",
       "    </tr>\n",
       "    <tr>\n",
       "      <th>9133</th>\n",
       "      <td>0</td>\n",
       "      <td>low</td>\n",
       "    </tr>\n",
       "  </tbody>\n",
       "</table>\n",
       "<p>9134 rows × 2 columns</p>\n",
       "</div>"
      ],
      "text/plain": [
       "      income income_group\n",
       "0      56274       middle\n",
       "1          0          low\n",
       "2      48767       middle\n",
       "3          0          low\n",
       "4      43836       middle\n",
       "...      ...          ...\n",
       "9129   71941         high\n",
       "9130   21604          low\n",
       "9131       0          low\n",
       "9132   21941          low\n",
       "9133       0          low\n",
       "\n",
       "[9134 rows x 2 columns]"
      ]
     },
     "execution_count": 29,
     "metadata": {},
     "output_type": "execute_result"
    }
   ],
   "source": [
    "# Not normal distribution\n",
    "# Where min=0, max=100000, maybe we can part it into 3 groups: low, middle, high income?\n",
    "\n",
    "# create a new column 'total_claim_amount_quartile' & store data in this column & give a value of 'Q1', 'Q2', 'Q3', 'Q4'\n",
    "df['income_group'] = pd.cut(df['income'], bins=3, labels=['low', 'middle', 'high'])\n",
    "df[['income', 'income_group']]"
   ]
  },
  {
   "cell_type": "code",
   "execution_count": 30,
   "id": "f2a11bf3",
   "metadata": {},
   "outputs": [],
   "source": [
    "df_income = df[['income', 'income_group', 'response']] \n",
    "df_income = df_income.groupby(['income_group','response']).size() "
   ]
  },
  {
   "cell_type": "code",
   "execution_count": 31,
   "id": "72692aea",
   "metadata": {},
   "outputs": [
    {
     "data": {
      "text/html": [
       "<div>\n",
       "<style scoped>\n",
       "    .dataframe tbody tr th:only-of-type {\n",
       "        vertical-align: middle;\n",
       "    }\n",
       "\n",
       "    .dataframe tbody tr th {\n",
       "        vertical-align: top;\n",
       "    }\n",
       "\n",
       "    .dataframe thead th {\n",
       "        text-align: right;\n",
       "    }\n",
       "</style>\n",
       "<table border=\"1\" class=\"dataframe\">\n",
       "  <thead>\n",
       "    <tr style=\"text-align: right;\">\n",
       "      <th>response</th>\n",
       "      <th>No</th>\n",
       "      <th>Yes</th>\n",
       "    </tr>\n",
       "    <tr>\n",
       "      <th>income_group</th>\n",
       "      <th></th>\n",
       "      <th></th>\n",
       "    </tr>\n",
       "  </thead>\n",
       "  <tbody>\n",
       "    <tr>\n",
       "      <th>low</th>\n",
       "      <td>3850</td>\n",
       "      <td>660</td>\n",
       "    </tr>\n",
       "    <tr>\n",
       "      <th>middle</th>\n",
       "      <td>2269</td>\n",
       "      <td>384</td>\n",
       "    </tr>\n",
       "    <tr>\n",
       "      <th>high</th>\n",
       "      <td>1707</td>\n",
       "      <td>264</td>\n",
       "    </tr>\n",
       "  </tbody>\n",
       "</table>\n",
       "</div>"
      ],
      "text/plain": [
       "response        No  Yes\n",
       "income_group           \n",
       "low           3850  660\n",
       "middle        2269  384\n",
       "high          1707  264"
      ]
     },
     "execution_count": 31,
     "metadata": {},
     "output_type": "execute_result"
    }
   ],
   "source": [
    "df_income = df_income.unstack()\n",
    "df_income"
   ]
  },
  {
   "cell_type": "code",
   "execution_count": 32,
   "id": "340cdf7a",
   "metadata": {},
   "outputs": [
    {
     "data": {
      "text/plain": [
       "income_group\n",
       "low       14.634146\n",
       "middle    14.474180\n",
       "high      13.394216\n",
       "dtype: float64"
      ]
     },
     "execution_count": 32,
     "metadata": {},
     "output_type": "execute_result"
    }
   ],
   "source": [
    "income_resp = df_income[\"Yes\"]/(df_income.sum(axis=1))*100\n",
    "income_resp"
   ]
  },
  {
   "cell_type": "code",
   "execution_count": 33,
   "id": "163df5f1",
   "metadata": {},
   "outputs": [
    {
     "data": {
      "text/plain": [
       "[14.634146341463413, 14.474180173388618, 13.39421613394216]"
      ]
     },
     "execution_count": 33,
     "metadata": {},
     "output_type": "execute_result"
    }
   ],
   "source": [
    "income_resp_rate = list()\n",
    "for n in range(len(income_resp)):\n",
    "    income_resp_rate.append(income_resp[n])\n",
    "income_resp_rate "
   ]
  },
  {
   "cell_type": "code",
   "execution_count": 34,
   "id": "65623db1",
   "metadata": {},
   "outputs": [
    {
     "data": {
      "text/html": [
       "<div>\n",
       "<style scoped>\n",
       "    .dataframe tbody tr th:only-of-type {\n",
       "        vertical-align: middle;\n",
       "    }\n",
       "\n",
       "    .dataframe tbody tr th {\n",
       "        vertical-align: top;\n",
       "    }\n",
       "\n",
       "    .dataframe thead th {\n",
       "        text-align: right;\n",
       "    }\n",
       "</style>\n",
       "<table border=\"1\" class=\"dataframe\">\n",
       "  <thead>\n",
       "    <tr style=\"text-align: right;\">\n",
       "      <th></th>\n",
       "      <th>income_group</th>\n",
       "      <th>income_resp_rate</th>\n",
       "    </tr>\n",
       "  </thead>\n",
       "  <tbody>\n",
       "    <tr>\n",
       "      <th>0</th>\n",
       "      <td>low</td>\n",
       "      <td>14.63</td>\n",
       "    </tr>\n",
       "    <tr>\n",
       "      <th>1</th>\n",
       "      <td>middle</td>\n",
       "      <td>14.47</td>\n",
       "    </tr>\n",
       "    <tr>\n",
       "      <th>2</th>\n",
       "      <td>high</td>\n",
       "      <td>13.39</td>\n",
       "    </tr>\n",
       "  </tbody>\n",
       "</table>\n",
       "</div>"
      ],
      "text/plain": [
       "  income_group  income_resp_rate\n",
       "0          low             14.63\n",
       "1       middle             14.47\n",
       "2         high             13.39"
      ]
     },
     "execution_count": 34,
     "metadata": {},
     "output_type": "execute_result"
    }
   ],
   "source": [
    "df_income_resp_rate = {\"income_group\": ['low', 'middle', 'high'],\n",
    "                       \"income_resp_rate\": income_resp_rate}\n",
    "income_resp_rate_table = pd.DataFrame(df_income_resp_rate).round(2)\n",
    "income_resp_rate_table"
   ]
  },
  {
   "cell_type": "code",
   "execution_count": 35,
   "id": "2e988ccd",
   "metadata": {},
   "outputs": [
    {
     "data": {
      "image/png": "[encoded data removed]",
      "text/plain": [
       "<Figure size 400x300 with 1 Axes>"
      ]
     },
     "metadata": {},
     "output_type": "display_data"
    }
   ],
   "source": [
    "plt.figure(figsize=(4,3))\n",
    "sns.barplot(x=\"income_group\", y=\"income_resp_rate\", data=income_resp_rate_table)\n",
    "plt.xlabel(\"Income Group\")\n",
    "plt.ylabel(\"Response Rate (%)\")\n",
    "plt.title(\"Plot of the response rate by income\")\n",
    "plt.show()"
   ]
  },
  {
   "cell_type": "code",
   "execution_count": 36,
   "id": "4fddadc8",
   "metadata": {},
   "outputs": [],
   "source": [
    "# I want to look at the group of \"no income\"\n",
    "df_income_zero = df[df['income'] == 0]"
   ]
  },
  {
   "cell_type": "code",
   "execution_count": 37,
   "id": "91860467",
   "metadata": {},
   "outputs": [
    {
     "data": {
      "text/plain": [
       "No     2119\n",
       "Yes     198\n",
       "Name: response, dtype: int64"
      ]
     },
     "execution_count": 37,
     "metadata": {},
     "output_type": "execute_result"
    }
   ],
   "source": [
    "df_income_zero['response'].value_counts()"
   ]
  },
  {
   "cell_type": "code",
   "execution_count": 38,
   "id": "62884754",
   "metadata": {},
   "outputs": [
    {
     "data": {
      "text/plain": [
       "8.54553301683211"
      ]
     },
     "execution_count": 38,
     "metadata": {},
     "output_type": "execute_result"
    }
   ],
   "source": [
    "# we can see that the response rate of \"no income group\" is lower than average response rate\n",
    "income_zero_resp_rate = df_income_zero['response'].value_counts()[\"Yes\"]/df_income_zero['response'].value_counts().sum()*100\n",
    "income_zero_resp_rate\n",
    "\n"
   ]
  },
  {
   "cell_type": "markdown",
   "id": "28d829de",
   "metadata": {},
   "source": [
    "# Final plot of the response rate by income"
   ]
  },
  {
   "cell_type": "code",
   "execution_count": 39,
   "id": "b212e07c",
   "metadata": {},
   "outputs": [],
   "source": [
    "# So I decided to separate this into a separate group & do the rest into 3 groups\n",
    "\n",
    "# select income > 0\n",
    "df_income_earn_group = df[df['income'] > 0]\n",
    "\n",
    "# divide into 3 groups\n",
    "df_income_earn_group['income_group_new'] = pd.cut(df_income_earn_group['income'], bins=3, labels=['low', 'middle', 'high'])\n",
    "\n",
    "df_income_earn_group = df_income_earn_group[['income_group', 'response']]\n",
    "\n",
    "\n",
    "df_income_earn_group = df_income_earn_group.groupby(['income_group', 'response']).size()\n"
   ]
  },
  {
   "cell_type": "code",
   "execution_count": 40,
   "id": "a6743e76",
   "metadata": {},
   "outputs": [
    {
     "data": {
      "text/html": [
       "<div>\n",
       "<style scoped>\n",
       "    .dataframe tbody tr th:only-of-type {\n",
       "        vertical-align: middle;\n",
       "    }\n",
       "\n",
       "    .dataframe tbody tr th {\n",
       "        vertical-align: top;\n",
       "    }\n",
       "\n",
       "    .dataframe thead th {\n",
       "        text-align: right;\n",
       "    }\n",
       "</style>\n",
       "<table border=\"1\" class=\"dataframe\">\n",
       "  <thead>\n",
       "    <tr style=\"text-align: right;\">\n",
       "      <th>response</th>\n",
       "      <th>No</th>\n",
       "      <th>Yes</th>\n",
       "    </tr>\n",
       "    <tr>\n",
       "      <th>income_group</th>\n",
       "      <th></th>\n",
       "      <th></th>\n",
       "    </tr>\n",
       "  </thead>\n",
       "  <tbody>\n",
       "    <tr>\n",
       "      <th>low</th>\n",
       "      <td>1731</td>\n",
       "      <td>462</td>\n",
       "    </tr>\n",
       "    <tr>\n",
       "      <th>middle</th>\n",
       "      <td>2269</td>\n",
       "      <td>384</td>\n",
       "    </tr>\n",
       "    <tr>\n",
       "      <th>high</th>\n",
       "      <td>1707</td>\n",
       "      <td>264</td>\n",
       "    </tr>\n",
       "  </tbody>\n",
       "</table>\n",
       "</div>"
      ],
      "text/plain": [
       "response        No  Yes\n",
       "income_group           \n",
       "low           1731  462\n",
       "middle        2269  384\n",
       "high          1707  264"
      ]
     },
     "execution_count": 40,
     "metadata": {},
     "output_type": "execute_result"
    }
   ],
   "source": [
    "df_income_earn_group = df_income_earn_group.unstack()\n",
    "df_income_earn_group"
   ]
  },
  {
   "cell_type": "code",
   "execution_count": 41,
   "id": "8a392c88",
   "metadata": {},
   "outputs": [
    {
     "data": {
      "text/plain": [
       "[21.06703146374829, 14.474180173388618, 13.39421613394216]"
      ]
     },
     "execution_count": 41,
     "metadata": {},
     "output_type": "execute_result"
    }
   ],
   "source": [
    "# calculate the response rate by income\n",
    "earn_group_resp_rate_result = df_income_earn_group[\"Yes\"]/(df_income_earn_group.sum(axis=1))*100 \n",
    "\n",
    "\n",
    "# put the result into a list\n",
    "earn_group_resp_rate = list()\n",
    "for m in range(len(earn_group_resp_rate_result)):\n",
    "    earn_group_resp_rate.append(earn_group_resp_rate_result[m])\n",
    "earn_group_resp_rate \n"
   ]
  },
  {
   "cell_type": "code",
   "execution_count": 42,
   "id": "cf8ecde8",
   "metadata": {},
   "outputs": [
    {
     "data": {
      "text/plain": [
       "[8.54553301683211, 21.06703146374829, 14.474180173388618, 13.39421613394216]"
      ]
     },
     "execution_count": 42,
     "metadata": {},
     "output_type": "execute_result"
    }
   ],
   "source": [
    "# add the response rate of 'no income group' into the same 'response rate by income' list (as a new list name 'new_income_group_resp_rate')\n",
    "\n",
    "new_income_group_resp_rate = earn_group_resp_rate\n",
    "new_income_group_resp_rate.insert(0, income_zero_resp_rate)\n",
    "new_income_group_resp_rate\n"
   ]
  },
  {
   "cell_type": "code",
   "execution_count": 43,
   "id": "d663c893",
   "metadata": {},
   "outputs": [
    {
     "data": {
      "text/html": [
       "<div>\n",
       "<style scoped>\n",
       "    .dataframe tbody tr th:only-of-type {\n",
       "        vertical-align: middle;\n",
       "    }\n",
       "\n",
       "    .dataframe tbody tr th {\n",
       "        vertical-align: top;\n",
       "    }\n",
       "\n",
       "    .dataframe thead th {\n",
       "        text-align: right;\n",
       "    }\n",
       "</style>\n",
       "<table border=\"1\" class=\"dataframe\">\n",
       "  <thead>\n",
       "    <tr style=\"text-align: right;\">\n",
       "      <th></th>\n",
       "      <th>income_group</th>\n",
       "      <th>income_resp_rate</th>\n",
       "    </tr>\n",
       "  </thead>\n",
       "  <tbody>\n",
       "    <tr>\n",
       "      <th>0</th>\n",
       "      <td>no_earning</td>\n",
       "      <td>8.55</td>\n",
       "    </tr>\n",
       "    <tr>\n",
       "      <th>1</th>\n",
       "      <td>low</td>\n",
       "      <td>21.07</td>\n",
       "    </tr>\n",
       "    <tr>\n",
       "      <th>2</th>\n",
       "      <td>middle</td>\n",
       "      <td>14.47</td>\n",
       "    </tr>\n",
       "    <tr>\n",
       "      <th>3</th>\n",
       "      <td>high</td>\n",
       "      <td>13.39</td>\n",
       "    </tr>\n",
       "  </tbody>\n",
       "</table>\n",
       "</div>"
      ],
      "text/plain": [
       "  income_group  income_resp_rate\n",
       "0   no_earning              8.55\n",
       "1          low             21.07\n",
       "2       middle             14.47\n",
       "3         high             13.39"
      ]
     },
     "execution_count": 43,
     "metadata": {},
     "output_type": "execute_result"
    }
   ],
   "source": [
    "# create a new data frame \n",
    "\n",
    "df_earn_group = {\"income_group\": ['no_earning', 'low', 'middle', 'high'],\n",
    "                       \"income_resp_rate\": new_income_group_resp_rate}\n",
    "new_income_group_resp_table = pd.DataFrame(df_earn_group).round(2)\n",
    "new_income_group_resp_table"
   ]
  },
  {
   "cell_type": "code",
   "execution_count": 44,
   "id": "550d0efc",
   "metadata": {},
   "outputs": [
    {
     "data": {
      "text/plain": [
       "Text(0.5, 1.0, 'Plot of the response rate by income')"
      ]
     },
     "execution_count": 44,
     "metadata": {},
     "output_type": "execute_result"
    },
    {
     "data": {
      "image/png": "[encoded data removed]",
      "text/plain": [
       "<Figure size 400x300 with 1 Axes>"
      ]
     },
     "metadata": {},
     "output_type": "display_data"
    }
   ],
   "source": [
    "# do the final plot \n",
    "\n",
    "plt.figure(figsize=(4,3))\n",
    "sns.barplot(x=\"income_group\", y=\"income_resp_rate\", data = new_income_group_resp_table)\n",
    "plt.xlabel(\"Income Groups\")\n",
    "plt.ylabel(\"Response Rate (%)\")\n",
    "plt.title(\"Plot of the response rate by income\")"
   ]
  },
  {
   "cell_type": "markdown",
   "id": "c0f20fa5",
   "metadata": {},
   "source": [
    "# Comment on \"Response Rate by Sales Channel\"\n",
    "\n",
    "- **Again, know your data!:\n",
    " -- Response rate = categorical\n",
    " -- Sales channel = categorical\n",
    "\n",
    "#### Therefore, we use barplots (grouped or stacked) - it doesn’t make sense to use scatter plots (which are for 2 x numerical continuous variables)"
   ]
  },
  {
   "cell_type": "code",
   "execution_count": null,
   "id": "4ddfdfcd",
   "metadata": {},
   "outputs": [],
   "source": []
  },
  {
   "cell_type": "code",
   "execution_count": null,
   "id": "6fa84455",
   "metadata": {},
   "outputs": [],
   "source": []
  }
 ],
 "metadata": {
  "kernelspec": {
   "display_name": "Python 3 (ipykernel)",
   "language": "python",
   "name": "python3"
  },
  "language_info": {
   "codemirror_mode": {
    "name": "ipython",
    "version": 3
   },
   "file_extension": ".py",
   "mimetype": "text/x-python",
   "name": "python",
   "nbconvert_exporter": "python",
   "pygments_lexer": "ipython3",
   "version": "3.9.13"
  }
 },
 "nbformat": 4,
 "nbformat_minor": 5
}
